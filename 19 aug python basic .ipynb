{
 "cells": [
  {
   "cell_type": "code",
   "execution_count": 67,
   "id": "78890174-e5b3-4ce7-b127-490aa329e792",
   "metadata": {},
   "outputs": [],
   "source": [
    "#this is Abhishek Kumar Tiwari ,tabhishekeee@gmail.com"
   ]
  },
  {
   "cell_type": "code",
   "execution_count": null,
   "id": "f2fdfc2f-8a54-4c86-805b-ba92e9c9c5fe",
   "metadata": {},
   "outputs": [],
   "source": [
    "# A Python Basics Variable"
   ]
  },
  {
   "cell_type": "code",
   "execution_count": 1,
   "id": "d53f6dab-38e3-4d91-9bb0-91382b16466b",
   "metadata": {},
   "outputs": [],
   "source": [
    "# 1, Declare two variables, `x` and `y`, and assign them integer values."
   ]
  },
  {
   "cell_type": "code",
   "execution_count": 2,
   "id": "572386f7-939c-4ad4-8cd7-7155a39713e8",
   "metadata": {},
   "outputs": [],
   "source": [
    "x=10"
   ]
  },
  {
   "cell_type": "code",
   "execution_count": 3,
   "id": "9f4383fa-85c7-4f40-8fec-73daaceabc2f",
   "metadata": {},
   "outputs": [],
   "source": [
    "y=4"
   ]
  },
  {
   "cell_type": "code",
   "execution_count": 4,
   "id": "4a52483e-2e04-4b84-9a2e-1982e65dcd16",
   "metadata": {},
   "outputs": [],
   "source": [
    "#to swap 'x' & 'y'"
   ]
  },
  {
   "cell_type": "code",
   "execution_count": 5,
   "id": "1832e57b-e8c1-4c84-9019-7192e1c592c2",
   "metadata": {},
   "outputs": [],
   "source": [
    "x=x+y"
   ]
  },
  {
   "cell_type": "code",
   "execution_count": 6,
   "id": "1431da28-49f1-4e76-a36d-af3e093e56cc",
   "metadata": {},
   "outputs": [
    {
     "data": {
      "text/plain": [
       "14"
      ]
     },
     "execution_count": 6,
     "metadata": {},
     "output_type": "execute_result"
    }
   ],
   "source": [
    "x"
   ]
  },
  {
   "cell_type": "code",
   "execution_count": 7,
   "id": "50845551-d5a5-46b7-b17e-92f407b15c12",
   "metadata": {},
   "outputs": [],
   "source": [
    "# now x became 14"
   ]
  },
  {
   "cell_type": "code",
   "execution_count": 8,
   "id": "e86f902e-f0e0-48fb-956b-2e33a8c01a94",
   "metadata": {},
   "outputs": [],
   "source": [
    "y=x-y"
   ]
  },
  {
   "cell_type": "code",
   "execution_count": 9,
   "id": "b9ca6b0d-6ab8-4165-bec0-ab8794a4c261",
   "metadata": {},
   "outputs": [
    {
     "data": {
      "text/plain": [
       "10"
      ]
     },
     "execution_count": 9,
     "metadata": {},
     "output_type": "execute_result"
    }
   ],
   "source": [
    "y"
   ]
  },
  {
   "cell_type": "code",
   "execution_count": 10,
   "id": "604bdeb9-b7df-45ac-98d7-59e196b90bd3",
   "metadata": {},
   "outputs": [],
   "source": [
    "# now y become 10"
   ]
  },
  {
   "cell_type": "code",
   "execution_count": 11,
   "id": "fd0c1cbd-64f6-4fc9-8e8c-ca256f96c8c2",
   "metadata": {},
   "outputs": [],
   "source": [
    "x=x-y"
   ]
  },
  {
   "cell_type": "code",
   "execution_count": 12,
   "id": "0f77d032-4828-4b6d-8907-6b677f71f81d",
   "metadata": {},
   "outputs": [
    {
     "data": {
      "text/plain": [
       "4"
      ]
     },
     "execution_count": 12,
     "metadata": {},
     "output_type": "execute_result"
    }
   ],
   "source": [
    "x"
   ]
  },
  {
   "cell_type": "code",
   "execution_count": 13,
   "id": "f7ae2f79-4882-4fef-9422-a6ecc852d189",
   "metadata": {},
   "outputs": [],
   "source": [
    "# now x became 4"
   ]
  },
  {
   "cell_type": "code",
   "execution_count": 23,
   "id": "7612fb78-debd-41e8-abce-9ff529adadc5",
   "metadata": {},
   "outputs": [
    {
     "name": "stdout",
     "output_type": "stream",
     "text": [
      "after swapping value x= 4 ,y= 10\n"
     ]
    }
   ],
   "source": [
    "print(\"after swapping value\",'x=',x,',y=',y)"
   ]
  },
  {
   "cell_type": "code",
   "execution_count": 24,
   "id": "0c0441cb-ba44-43cb-9618-97a341ba0700",
   "metadata": {},
   "outputs": [],
   "source": [
    "# 2, Create a program that calculates the area of a rectangle."
   ]
  },
  {
   "cell_type": "code",
   "execution_count": 27,
   "id": "32d37621-eae5-405e-8639-623e6e84a30c",
   "metadata": {},
   "outputs": [],
   "source": [
    "l=10 #l=lenth"
   ]
  },
  {
   "cell_type": "code",
   "execution_count": 28,
   "id": "84c8fe1a-bf05-4e58-9a34-e1334d3d5ade",
   "metadata": {},
   "outputs": [
    {
     "data": {
      "text/plain": [
       "10"
      ]
     },
     "execution_count": 28,
     "metadata": {},
     "output_type": "execute_result"
    }
   ],
   "source": [
    "l"
   ]
  },
  {
   "cell_type": "code",
   "execution_count": 32,
   "id": "d87073c6-9373-4c55-9118-34c660c830c7",
   "metadata": {},
   "outputs": [],
   "source": [
    "w=20 #w=width"
   ]
  },
  {
   "cell_type": "code",
   "execution_count": 41,
   "id": "bc71f9f7-5009-4246-9692-8fdc81f99bce",
   "metadata": {},
   "outputs": [
    {
     "data": {
      "text/plain": [
       "20"
      ]
     },
     "execution_count": 41,
     "metadata": {},
     "output_type": "execute_result"
    }
   ],
   "source": [
    "w"
   ]
  },
  {
   "cell_type": "code",
   "execution_count": 42,
   "id": "35969558-a064-4fc6-8620-90ad2a1eb47f",
   "metadata": {},
   "outputs": [],
   "source": [
    "a=l*w #area of rectangle"
   ]
  },
  {
   "cell_type": "code",
   "execution_count": 43,
   "id": "8ec76d8a-f3e0-4359-8eb5-3785358455a2",
   "metadata": {},
   "outputs": [
    {
     "data": {
      "text/plain": [
       "200"
      ]
     },
     "execution_count": 43,
     "metadata": {},
     "output_type": "execute_result"
    }
   ],
   "source": [
    "a"
   ]
  },
  {
   "cell_type": "code",
   "execution_count": 44,
   "id": "ea3e438e-ddd4-45f8-b6c1-7646705cdf42",
   "metadata": {},
   "outputs": [
    {
     "name": "stdout",
     "output_type": "stream",
     "text": [
      "area of rectangle; 200\n"
     ]
    }
   ],
   "source": [
    "print(\"area of rectangle;\",a)"
   ]
  },
  {
   "cell_type": "code",
   "execution_count": 45,
   "id": "9e8a57d2-aa82-495b-a33a-ae15fb63963d",
   "metadata": {},
   "outputs": [],
   "source": [
    "# 3,Write a Python program that converts temperatures from Celsius to fahrengeit"
   ]
  },
  {
   "cell_type": "code",
   "execution_count": 60,
   "id": "9b0e2c50-2d11-4b3a-be96-8b5f66fa98c2",
   "metadata": {},
   "outputs": [
    {
     "name": "stdin",
     "output_type": "stream",
     "text": [
      " 37\n"
     ]
    }
   ],
   "source": [
    "c=int(input()) # c is Celsius ,f denotes as Fahrenheit\n"
   ]
  },
  {
   "cell_type": "code",
   "execution_count": 65,
   "id": "68b20467-9840-439a-8a4f-10505f2fb3e5",
   "metadata": {},
   "outputs": [],
   "source": [
    "f=c*1.8+32  # formula for celsius to fahrenheit f=c*1.8+32"
   ]
  },
  {
   "cell_type": "code",
   "execution_count": 62,
   "id": "7e2203ca-f836-4269-b1f4-f5ebd369f0ae",
   "metadata": {},
   "outputs": [
    {
     "data": {
      "text/plain": [
       "98.60000000000001"
      ]
     },
     "execution_count": 62,
     "metadata": {},
     "output_type": "execute_result"
    }
   ],
   "source": [
    "f"
   ]
  },
  {
   "cell_type": "code",
   "execution_count": 64,
   "id": "f791aa63-c8f1-4d4b-b325-9e5856da0f6c",
   "metadata": {},
   "outputs": [
    {
     "name": "stdout",
     "output_type": "stream",
     "text": [
      "Fahrengeit= 98.60000000000001\n"
     ]
    }
   ],
   "source": [
    "print('Fahrengeit=',f)"
   ]
  },
  {
   "cell_type": "code",
   "execution_count": 66,
   "id": "fd430326-5675-4986-b32a-75b24931804d",
   "metadata": {},
   "outputs": [],
   "source": [
    "# B String Based Questions"
   ]
  },
  {
   "cell_type": "code",
   "execution_count": 68,
   "id": "e7786f98-aefb-4294-837b-368595dc5f7b",
   "metadata": {},
   "outputs": [],
   "source": [
    "# 1 Write a Python program that takes a string as input and prints the length of the string."
   ]
  },
  {
   "cell_type": "code",
   "execution_count": 73,
   "id": "56970bbb-160d-414a-8394-cd350505f462",
   "metadata": {},
   "outputs": [
    {
     "name": "stdin",
     "output_type": "stream",
     "text": [
      " abhishek\n"
     ]
    }
   ],
   "source": [
    "a=len(input())"
   ]
  },
  {
   "cell_type": "code",
   "execution_count": 72,
   "id": "9584ffc7-e8bd-416d-bd83-3f16fa338327",
   "metadata": {},
   "outputs": [
    {
     "data": {
      "text/plain": [
       "8"
      ]
     },
     "execution_count": 72,
     "metadata": {},
     "output_type": "execute_result"
    }
   ],
   "source": [
    "a"
   ]
  },
  {
   "cell_type": "code",
   "execution_count": 74,
   "id": "13bd4c71-1757-48a2-9dca-d814424b9b41",
   "metadata": {},
   "outputs": [],
   "source": [
    "# 2 Create a program that takes a sentence from the user and counts the number of vowels (a, e, i, o, u) in the string."
   ]
  },
  {
   "cell_type": "code",
   "execution_count": 65,
   "id": "af6da801-de43-4632-b261-7d14efe684bd",
   "metadata": {},
   "outputs": [
    {
     "name": "stdin",
     "output_type": "stream",
     "text": [
      "write a sentence: Abhishek\n"
     ]
    }
   ],
   "source": [
    "s=str(input(\"write a sentence:\"))# to ask the string input user"
   ]
  },
  {
   "cell_type": "code",
   "execution_count": 66,
   "id": "3312f555-a810-47c7-b7ca-ec82cd106f99",
   "metadata": {},
   "outputs": [
    {
     "data": {
      "text/plain": [
       "'Abhishek'"
      ]
     },
     "execution_count": 66,
     "metadata": {},
     "output_type": "execute_result"
    }
   ],
   "source": [
    "s"
   ]
  },
  {
   "cell_type": "code",
   "execution_count": 67,
   "id": "287578ef-833a-4e07-a38e-a56a85eb9b60",
   "metadata": {},
   "outputs": [],
   "source": [
    "v=\"aeiouAEIOU\" #Define vowel by v"
   ]
  },
  {
   "cell_type": "code",
   "execution_count": 68,
   "id": "5cbd7ba3-778f-4248-aaa4-7078ff01bbc4",
   "metadata": {},
   "outputs": [],
   "source": [
    "f=sum(s.count(vowel) for vowel in v) #sum of count of vowel in string "
   ]
  },
  {
   "cell_type": "code",
   "execution_count": 69,
   "id": "45fb09a7-059b-47af-a880-613fe20fa4a9",
   "metadata": {},
   "outputs": [
    {
     "name": "stdout",
     "output_type": "stream",
     "text": [
      "3\n"
     ]
    }
   ],
   "source": [
    "print(f) #print no of count match v with s"
   ]
  },
  {
   "cell_type": "code",
   "execution_count": 70,
   "id": "5c8076aa-1322-493b-a3b4-7b7d33ccacc8",
   "metadata": {},
   "outputs": [],
   "source": [
    " #3Give the string reverse the order of character using string slicing print the reverse string"
   ]
  },
  {
   "cell_type": "code",
   "execution_count": 72,
   "id": "42dd1ded-3d89-4dce-a8e1-42acccc503de",
   "metadata": {},
   "outputs": [
    {
     "name": "stdin",
     "output_type": "stream",
     "text": [
      "write a character PWskills\n"
     ]
    }
   ],
   "source": [
    "r=str(input(\"write a character\"))"
   ]
  },
  {
   "cell_type": "code",
   "execution_count": 75,
   "id": "13922c46-5e14-421a-b66d-fd2400abc117",
   "metadata": {},
   "outputs": [],
   "source": [
    "t=r[::-1] #using string slicing"
   ]
  },
  {
   "cell_type": "code",
   "execution_count": 77,
   "id": "206e4032-1f32-4e67-8099-3cc35b42eea4",
   "metadata": {},
   "outputs": [
    {
     "name": "stdout",
     "output_type": "stream",
     "text": [
      "slliksWP\n"
     ]
    }
   ],
   "source": [
    "print(t) "
   ]
  },
  {
   "cell_type": "code",
   "execution_count": 78,
   "id": "8b8f26ae-a9e3-4297-985f-2c266c6ff9dd",
   "metadata": {},
   "outputs": [],
   "source": [
    "#4 take a string as a input and check whether it is PLINDROM OR NO"
   ]
  },
  {
   "cell_type": "code",
   "execution_count": 80,
   "id": "22aad81d-b4c7-4ed3-9958-005186cf33d4",
   "metadata": {},
   "outputs": [
    {
     "name": "stdin",
     "output_type": "stream",
     "text": [
      "write the sentence to check is it polidrom: saas\n"
     ]
    }
   ],
   "source": [
    "m=str(input(\"write the sentence to check is it polindrom:\"))"
   ]
  },
  {
   "cell_type": "code",
   "execution_count": 81,
   "id": "518080a7-7b58-4203-bc18-e66a9718ba98",
   "metadata": {},
   "outputs": [],
   "source": [
    "n=m[::-1] #string slicing to rebverse the character"
   ]
  },
  {
   "cell_type": "code",
   "execution_count": 82,
   "id": "84045492-884d-4f98-a8a8-17de26dc0bdf",
   "metadata": {},
   "outputs": [
    {
     "data": {
      "text/plain": [
       "'saas'"
      ]
     },
     "execution_count": 82,
     "metadata": {},
     "output_type": "execute_result"
    }
   ],
   "source": [
    "n"
   ]
  },
  {
   "cell_type": "code",
   "execution_count": 88,
   "id": "413a900f-860a-4cab-8b8d-195c4f3ada68",
   "metadata": {},
   "outputs": [
    {
     "name": "stdout",
     "output_type": "stream",
     "text": [
      "sentence is palindrom\n"
     ]
    }
   ],
   "source": [
    "if(m==n):print(\"sentence is palindrom\")#if else function to compair the out put\n",
    "else:print(\"sentence is not polindrom\")"
   ]
  },
  {
   "cell_type": "code",
   "execution_count": 89,
   "id": "5fcd1822-e441-47ef-8444-b75118b99e5a",
   "metadata": {},
   "outputs": [],
   "source": [
    "#program that take the string as input and remove the all the spce and print acordingly"
   ]
  },
  {
   "cell_type": "code",
   "execution_count": 91,
   "id": "5cedd3a4-ef48-404d-ae1b-96c10e410164",
   "metadata": {},
   "outputs": [
    {
     "name": "stdin",
     "output_type": "stream",
     "text": [
      "give the sentances my name is khan and i am not srk\n"
     ]
    }
   ],
   "source": [
    "string=str(input(\"give the sentances\"))"
   ]
  },
  {
   "cell_type": "code",
   "execution_count": 93,
   "id": "e450d25a-b2ca-491b-b78b-fcfda019c596",
   "metadata": {},
   "outputs": [],
   "source": [
    "outcome=string.replace(\" \",\"\") #using replace function to replace the space with non space"
   ]
  },
  {
   "cell_type": "code",
   "execution_count": 95,
   "id": "94f4f240-4a93-4489-b5c6-81c328e5be47",
   "metadata": {},
   "outputs": [
    {
     "name": "stdout",
     "output_type": "stream",
     "text": [
      "mynameiskhanandiamnotsrk\n"
     ]
    }
   ],
   "source": [
    "print(outcome)"
   ]
  },
  {
   "cell_type": "code",
   "execution_count": null,
   "id": "10d95bfd-1cad-464a-93af-c12440855c99",
   "metadata": {},
   "outputs": [],
   "source": []
  }
 ],
 "metadata": {
  "kernelspec": {
   "display_name": "Python 3 (ipykernel)",
   "language": "python",
   "name": "python3"
  },
  "language_info": {
   "codemirror_mode": {
    "name": "ipython",
    "version": 3
   },
   "file_extension": ".py",
   "mimetype": "text/x-python",
   "name": "python",
   "nbconvert_exporter": "python",
   "pygments_lexer": "ipython3",
   "version": "3.10.8"
  }
 },
 "nbformat": 4,
 "nbformat_minor": 5
}
